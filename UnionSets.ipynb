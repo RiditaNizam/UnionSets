{
  "nbformat": 4,
  "nbformat_minor": 0,
  "metadata": {
    "colab": {
      "name": "UnionSets.ipynb",
      "provenance": [],
      "authorship_tag": "ABX9TyNhGqAm4+MFEjXNr36o+yaz",
      "include_colab_link": true
    },
    "kernelspec": {
      "name": "python3",
      "display_name": "Python 3"
    },
    "language_info": {
      "name": "python"
    }
  },
  "cells": [
    {
      "cell_type": "markdown",
      "metadata": {
        "id": "view-in-github",
        "colab_type": "text"
      },
      "source": [
        "<a href=\"https://colab.research.google.com/github/RiditaNizam/UnionSets/blob/main/UnionSets.ipynb\" target=\"_parent\"><img src=\"https://colab.research.google.com/assets/colab-badge.svg\" alt=\"Open In Colab\"/></a>"
      ]
    },
    {
      "cell_type": "code",
      "metadata": {
        "colab": {
          "base_uri": "https://localhost:8080/"
        },
        "id": "k6chODXOBx9S",
        "outputId": "a6a3b156-56d9-4b19-fdeb-3f501ffc96ef"
      },
      "source": [
        "#Sets\n",
        "group_1 = {\"Red\", \"Orange\", \"Yellow\", \"Black\"}\n",
        "group_2 = {\"Yellow\", \"Green\", \"Blue\", \"Black\"}\n",
        "group_3 = {\"Indigo\", \"Violet\", \"White\", \"Black\"}\n",
        "\n",
        "#All unique colors\n",
        "in_common = group_1.union(group_2, group_3)\n",
        "print(in_common)\n",
        "\n",
        "print(\"\\n\")\n",
        "\n",
        "#Unions using bar symbol\n",
        "union_bar = group_1 | group_2 | group_3\n",
        "print(union_bar)"
      ],
      "execution_count": 2,
      "outputs": [
        {
          "output_type": "stream",
          "text": [
            "{'Indigo', 'Violet', 'Red', 'White', 'Blue', 'Yellow', 'Black', 'Orange', 'Green'}\n",
            "\n",
            "\n",
            "{'Indigo', 'Violet', 'Red', 'White', 'Blue', 'Yellow', 'Black', 'Orange', 'Green'}\n"
          ],
          "name": "stdout"
        }
      ]
    }
  ]
}